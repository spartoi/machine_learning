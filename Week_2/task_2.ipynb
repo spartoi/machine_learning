{
 "cells": [
  {
   "cell_type": "code",
   "execution_count": 1,
   "metadata": {},
   "outputs": [],
   "source": [
    "import numpy as np\n",
    "import math\n",
    "#sin(x / 5) * exp(x / 10) + 5 * exp(-x / 2)\n",
    "def fnc(arg):\n",
    "    return math.sin(arg/5)*math.exp(arg/10)+5*math.exp(-arg/2)\n",
    "def gen_matrix(x_arr):\n",
    "    x_length = len(x_arr)\n",
    "    matrix_elems = []\n",
    "    for x in x_arr:\n",
    "      for i in range(x_length):\n",
    "        matrix_elems.append(x**i)\n",
    "    return np.array(matrix_elems).reshape(x_length,x_length)\n"
   ]
  },
  {
   "cell_type": "code",
   "execution_count": 16,
   "metadata": {},
   "outputs": [],
   "source": [
    "coords_lst = [1,4,10,15]\n",
    "a = gen_matrix(coords_lst)\n",
    "b = np.array([fnc(coordinate) for coordinate in coords_lst])"
   ]
  },
  {
   "cell_type": "code",
   "execution_count": 17,
   "metadata": {},
   "outputs": [
    {
     "data": {
      "text/plain": [
       "array([3.25221687, 1.74684595, 2.50541641, 0.63522142])"
      ]
     },
     "execution_count": 17,
     "metadata": {},
     "output_type": "execute_result"
    }
   ],
   "source": [
    "b"
   ]
  },
  {
   "cell_type": "code",
   "execution_count": 21,
   "metadata": {},
   "outputs": [
    {
     "data": {
      "text/plain": [
       "array([ 4.36264154, -1.29552587,  0.19333685, -0.00823565])"
      ]
     },
     "execution_count": 21,
     "metadata": {},
     "output_type": "execute_result"
    }
   ],
   "source": [
    "import  numpy.linalg \n",
    "x_arr = np.linalg.solve(a, b)\n",
    "x_arr\n"
   ]
  },
  {
   "cell_type": "code",
   "execution_count": 24,
   "metadata": {},
   "outputs": [],
   "source": [
    "result = ' '.join([str(x) for x in x_arr])"
   ]
  },
  {
   "cell_type": "code",
   "execution_count": 27,
   "metadata": {},
   "outputs": [],
   "source": [
    "out_file = open('sub_2.txt', 'w')\n",
    "out_file.write(result)\n",
    "out_file.close()"
   ]
  },
  {
   "cell_type": "code",
   "execution_count": null,
   "metadata": {},
   "outputs": [],
   "source": []
  }
 ],
 "metadata": {
  "kernelspec": {
   "display_name": "Python 3",
   "language": "python",
   "name": "python3"
  },
  "language_info": {
   "codemirror_mode": {
    "name": "ipython",
    "version": 3
   },
   "file_extension": ".py",
   "mimetype": "text/x-python",
   "name": "python",
   "nbconvert_exporter": "python",
   "pygments_lexer": "ipython3",
   "version": "3.7.1"
  }
 },
 "nbformat": 4,
 "nbformat_minor": 2
}
